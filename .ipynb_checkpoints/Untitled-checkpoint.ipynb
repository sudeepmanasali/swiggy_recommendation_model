{
 "cells": [
  {
   "cell_type": "code",
   "execution_count": 6,
   "metadata": {},
   "outputs": [
    {
     "ename": "ValueError",
     "evalue": "invalid literal for int() with base 10: '4.1/5'",
     "output_type": "error",
     "traceback": [
      "\u001b[1;31m---------------------------------------------------------------------------\u001b[0m",
      "\u001b[1;31mValueError\u001b[0m                                Traceback (most recent call last)",
      "\u001b[1;32m<ipython-input-6-029cd0b2dcfc>\u001b[0m in \u001b[0;36m<module>\u001b[1;34m()\u001b[0m\n\u001b[0;32m     29\u001b[0m                 \u001b[1;34m\"name\"\u001b[0m\u001b[1;33m:\u001b[0m\u001b[0mrow\u001b[0m\u001b[1;33m[\u001b[0m\u001b[1;34m\"name\"\u001b[0m\u001b[1;33m]\u001b[0m\u001b[1;33m,\u001b[0m\u001b[1;33m\u001b[0m\u001b[0m\n\u001b[0;32m     30\u001b[0m                 \u001b[1;34m\"cost\"\u001b[0m\u001b[1;33m:\u001b[0m\u001b[0mrow\u001b[0m\u001b[1;33m[\u001b[0m\u001b[1;34m\"approx_cost(for two people)\"\u001b[0m\u001b[1;33m]\u001b[0m\u001b[1;33m,\u001b[0m\u001b[1;33m\u001b[0m\u001b[0m\n\u001b[1;32m---> 31\u001b[1;33m                 \u001b[1;34m\"menu\"\u001b[0m\u001b[1;33m:\u001b[0m\u001b[1;33m{\u001b[0m\u001b[1;34m\"itemsName\"\u001b[0m\u001b[1;33m:\u001b[0m\u001b[0mrow\u001b[0m\u001b[1;33m[\u001b[0m\u001b[1;34m'dish_liked'\u001b[0m\u001b[1;33m]\u001b[0m\u001b[1;33m,\u001b[0m \u001b[1;34m'itemCost'\u001b[0m\u001b[1;33m:\u001b[0m \u001b[0mprice\u001b[0m \u001b[1;33m+\u001b[0m \u001b[1;33m(\u001b[0m\u001b[0mprice\u001b[0m \u001b[1;33m*\u001b[0m \u001b[0mint\u001b[0m\u001b[1;33m(\u001b[0m\u001b[0mrow\u001b[0m\u001b[1;33m[\u001b[0m\u001b[1;34m'rate'\u001b[0m\u001b[1;33m]\u001b[0m\u001b[1;33m)\u001b[0m\u001b[1;33m)\u001b[0m\u001b[1;33m/\u001b[0m\u001b[1;36m100\u001b[0m \u001b[1;33m}\u001b[0m\u001b[1;33m\u001b[0m\u001b[0m\n\u001b[0m\u001b[0;32m     32\u001b[0m \u001b[1;33m\u001b[0m\u001b[0m\n\u001b[0;32m     33\u001b[0m             })\n",
      "\u001b[1;31mValueError\u001b[0m: invalid literal for int() with base 10: '4.1/5'"
     ]
    }
   ],
   "source": [
    "import pandas as pd\n",
    "df = pd.read_csv ('zomato.csv')\n",
    "# nump = pd.DataFrame(df[0:14])\n",
    "# for i in nump:\n",
    "#     print(i)\n",
    "import csv\n",
    "import json\n",
    "filename = 'zomato.csv'\n",
    "list2=[]\n",
    "i=0\n",
    "\n",
    "df=df[0:12000]\n",
    "df = df.dropna()\n",
    "df = df.drop([\"reviews_list\",\"listed_in(city)\",\"listed_in(type)\",\"online_order\",\"book_table\",\"rest_type\"],axis=\"columns\")\n",
    "df\n",
    "price = 50;\n",
    "for index, row in df.iterrows():\n",
    "\n",
    "      \n",
    "            list2.append({\n",
    "                \"rate\":row[\"rate\"],\n",
    "                \"image\":row[\"url\"],\n",
    "                \"phone\":row[\"phone\"],\n",
    "                \"rate\":row[\"rate\"],\n",
    "                                \"address\":row[\"address\"],\n",
    "                \"city\":row[\"location\"],\n",
    "                'votes':row['votes'],\n",
    "                \"cusines\":row[\"cuisines\"],\n",
    "                \"name\":row[\"name\"],\n",
    "                \"cost\":row[\"approx_cost(for two people)\"],\n",
    "                \"menu\":{\"itemsName\":row['dish_liked'], 'itemCost': price + (price * int(row['votes']))/10000 }\n",
    "\n",
    "            })\n",
    "            \n",
    "with open('hotels.json',\"w\") as f:\n",
    "    f.write(json.dumps(list2))"
   ]
  },
  {
   "cell_type": "code",
   "execution_count": null,
   "metadata": {},
   "outputs": [],
   "source": [
    "\n",
    "\n",
    "\n"
   ]
  },
  {
   "cell_type": "code",
   "execution_count": null,
   "metadata": {},
   "outputs": [],
   "source": []
  }
 ],
 "metadata": {
  "kernelspec": {
   "display_name": "Python 3",
   "language": "python",
   "name": "python3"
  },
  "language_info": {
   "codemirror_mode": {
    "name": "ipython",
    "version": 3
   },
   "file_extension": ".py",
   "mimetype": "text/x-python",
   "name": "python",
   "nbconvert_exporter": "python",
   "pygments_lexer": "ipython3",
   "version": "3.6.5"
  }
 },
 "nbformat": 4,
 "nbformat_minor": 2
}
