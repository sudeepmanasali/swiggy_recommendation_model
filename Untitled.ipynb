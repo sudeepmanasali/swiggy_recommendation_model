{
 "cells": [
  {
   "cell_type": "code",
   "execution_count": 7,
   "metadata": {},
   "outputs": [],
   "source": [
    "import pandas as pd\n",
    "df = pd.read_csv ('zomato.csv')\n",
    "# nump = pd.DataFrame(df[0:14])\n",
    "# for i in nump:\n",
    "#     print(i)\n",
    "import csv\n",
    "import json\n",
    "filename = 'zomato.csv'\n",
    "list2=[]\n",
    "i=0\n",
    "\n",
    "df=df[0:12000]\n",
    "df = df.dropna()\n",
    "df = df.drop([\"reviews_list\",\"listed_in(city)\",\"listed_in(type)\",\"online_order\",\"book_table\",\"rest_type\"],axis=\"columns\")\n",
    "df\n",
    "price = 50;\n",
    "for index, row in df.iterrows():\n",
    "\n",
    "      \n",
    "            list2.append({\n",
    "                \"rate\":row[\"rate\"],\n",
    "                \"image\":row[\"url\"],\n",
    "                \"phone\":row[\"phone\"],\n",
    "                \"rate\":row[\"rate\"],\n",
    "                                \"address\":row[\"address\"],\n",
    "                \"city\":row[\"location\"],\n",
    "                'votes':row['votes'],\n",
    "                \"cusines\":row[\"cuisines\"],\n",
    "                \"name\":row[\"name\"],\n",
    "                \"cost\":row[\"approx_cost(for two people)\"],\n",
    "                \"menu\":{\"itemsName\":row['dish_liked'], 'itemCost': price + (price * int(row['votes']))/10000 }\n",
    "\n",
    "            })\n",
    "            \n",
    "with open('hotels.json',\"w\") as f:\n",
    "    f.write(json.dumps(list2))"
   ]
  },
  {
   "cell_type": "code",
   "execution_count": null,
   "metadata": {},
   "outputs": [],
   "source": [
    "\n",
    "\n",
    "\n"
   ]
  },
  {
   "cell_type": "code",
   "execution_count": null,
   "metadata": {},
   "outputs": [],
   "source": []
  }
 ],
 "metadata": {
  "kernelspec": {
   "display_name": "Python 3",
   "language": "python",
   "name": "python3"
  },
  "language_info": {
   "codemirror_mode": {
    "name": "ipython",
    "version": 3
   },
   "file_extension": ".py",
   "mimetype": "text/x-python",
   "name": "python",
   "nbconvert_exporter": "python",
   "pygments_lexer": "ipython3",
   "version": "3.6.5"
  }
 },
 "nbformat": 4,
 "nbformat_minor": 2
}
